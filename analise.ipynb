{
  "cells": [
    {
      "cell_type": "markdown",
      "metadata": {
        "colab_type": "text",
        "id": "view-in-github"
      },
      "source": [
        "<a href=\"https://colab.research.google.com/github/NewKanvas/Projeto-5/blob/main/analise.ipynb\" target=\"_parent\"><img src=\"https://colab.research.google.com/assets/colab-badge.svg\" alt=\"Open In Colab\"/></a>"
      ]
    },
    {
      "cell_type": "markdown",
      "metadata": {},
      "source": [
        "# ***Módulo 5 – Criptomoedas***"
      ]
    },
    {
      "cell_type": "markdown",
      "metadata": {},
      "source": [
        "#### ***SOBRE O PROJETO***"
      ]
    },
    {
      "cell_type": "markdown",
      "metadata": {},
      "source": [
        "`Esse é um projeto integrador, nós vamos utilizar\n",
        "todas as ferramentas e conhecimentos trabalhados ao\n",
        "longo do curso. `\n",
        "\n",
        "**CONTEXTO**\n",
        "\n",
        "Criptomoedas são moedas digitais descentralizadas baseadas em criptografia, que\n",
        "operam em uma rede blockchain que permite transações seguras e transparentes\n",
        "sem a necessidade de intermediários, como bancos. Elas fazem parte do mundo\n",
        "digital, afetam a economia atual e são consideradas altamente voláteis.\n",
        "Por isso, você e seu squad foram escalados por uma corretora financeira para\n",
        "realizar uma análise exploratória relacionada à série histórica dos valores de\n",
        "criptomoedas."
      ]
    },
    {
      "cell_type": "markdown",
      "metadata": {},
      "source": [
        "##### ***O QUE É PARA FAZER?***"
      ]
    },
    {
      "cell_type": "markdown",
      "metadata": {},
      "source": [
        "Realizar uma análise exploratória histórica dos valores de\n",
        "criptomoedas.\n",
        "As fontes de dados que serão utilizadas no projeto estão\n",
        "disponíveis no [Kaggle](https://www.kaggle.com/datasets/sudalairajkumar/cryptocurrencypricehistory).\n",
        "\n"
      ]
    },
    {
      "cell_type": "markdown",
      "metadata": {},
      "source": [
        "##### ***COMO FAZER?***"
      ]
    },
    {
      "cell_type": "markdown",
      "metadata": {},
      "source": [
        "**DETALHES DO PROJETO**\n",
        "\n",
        "A análise deverá responder às seguintes perguntas:\n",
        "1. Como se comportaram os valores para todas as criptomoedas? Os valores tiveram uma\n",
        "tendência de queda ou de aumento?\n",
        "2. Quais os valores médios para todas as criptomoedas?\n",
        "3. Em quais anos houve maiores quedas e valorizações?\n",
        "4. Existe alguma tendência de aumento ou queda dos valores pelo dia da semana?\n",
        "5. Qual moeda se mostra mais interessante em relação à valorização pela análise da série\n",
        "histórica?\n",
        "6. Qual moeda se mostra menos interessante em relação à valorização pela análise da série\n",
        "histórica?\n",
        "7. Existe correlação entre os valores para todas as criptomoedas?"
      ]
    },
    {
      "cell_type": "markdown",
      "metadata": {
        "id": "_i9vT0Z-Lxie"
      },
      "source": [
        "### ***Importando as bibliotecas***"
      ]
    },
    {
      "cell_type": "code",
      "execution_count": 157,
      "metadata": {
        "id": "inHEObsDLxil"
      },
      "outputs": [],
      "source": [
        "import pandas as pd\n",
        "import numpy as np\n",
        "import seaborn as sns # pip install seaborn\n",
        "import matplotlib.pyplot as plt # pip install matplotlib\n",
        "# import plotly.express as px #  pip install --upgrade plotly"
      ]
    },
    {
      "cell_type": "markdown",
      "metadata": {},
      "source": [
        "#### **Carregando Datasets**\n",
        "> 23 Datasets disponibilizados pelo link do Kaggle"
      ]
    },
    {
      "cell_type": "code",
      "execution_count": 158,
      "metadata": {
        "id": "nIAJ79pPLxiq"
      },
      "outputs": [],
      "source": [
        "# Lendo os datasets\n",
        "aave = pd.read_csv('https://raw.githubusercontent.com/NewKanvas/Projeto-5/main/Data/coin_Aave.csv')\n",
        "binance_coin = pd.read_csv('https://github.com/NewKanvas/Projeto-5/raw/main/Data/coin_BinanceCoin.csv')\n",
        "bitcoin = pd.read_csv('https://github.com/NewKanvas/Projeto-5/raw/main/Data/coin_Bitcoin.csv')\n",
        "cardano = pd.read_csv('https://github.com/NewKanvas/Projeto-5/raw/main/Data/coin_Cardano.csv')\n",
        "chainlink = pd.read_csv('https://github.com/NewKanvas/Projeto-5/raw/main/Data/coin_ChainLink.csv')\n",
        "cosmos = pd.read_csv('https://github.com/NewKanvas/Projeto-5/raw/main/Data/coin_Cosmos.csv')\n",
        "crypto_com_coin = pd.read_csv('https://github.com/NewKanvas/Projeto-5/raw/main/Data/coin_CryptocomCoin.csv')\n",
        "dogecoin = pd.read_csv('https://github.com/NewKanvas/Projeto-5/raw/main/Data/coin_Dogecoin.csv')\n",
        "eos = pd.read_csv('https://github.com/NewKanvas/Projeto-5/raw/main/Data/coin_EOS.csv')\n",
        "ethereum = pd.read_csv('https://github.com/NewKanvas/Projeto-5/raw/main/Data/coin_Ethereum.csv')\n",
        "iota = pd.read_csv('https://github.com/NewKanvas/Projeto-5/raw/main/Data/coin_Iota.csv')\n",
        "litecoin = pd.read_csv('https://github.com/NewKanvas/Projeto-5/raw/main/Data/coin_Litecoin.csv')\n",
        "monero = pd.read_csv('https://github.com/NewKanvas/Projeto-5/raw/main/Data/coin_Monero.csv')\n",
        "nem = pd.read_csv('https://github.com/NewKanvas/Projeto-5/raw/main/Data/coin_NEM.csv')\n",
        "polkadot = pd.read_csv('https://github.com/NewKanvas/Projeto-5/raw/main/Data/coin_Polkadot.csv')\n",
        "solana = pd.read_csv('https://github.com/NewKanvas/Projeto-5/raw/main/Data/coin_Solana.csv')\n",
        "stellar = pd.read_csv('https://github.com/NewKanvas/Projeto-5/raw/main/Data/coin_Stellar.csv')\n",
        "tether = pd.read_csv('https://github.com/NewKanvas/Projeto-5/raw/main/Data/coin_Tether.csv')\n",
        "tron = pd.read_csv('https://github.com/NewKanvas/Projeto-5/raw/main/Data/coin_Tron.csv')\n",
        "uniswap = pd.read_csv('https://github.com/NewKanvas/Projeto-5/raw/main/Data/coin_Uniswap.csv')\n",
        "usdcoin = pd.read_csv('https://github.com/NewKanvas/Projeto-5/raw/main/Data/coin_USDCoin.csv')\n",
        "wrapped_bitcoin = pd.read_csv('https://github.com/NewKanvas/Projeto-5/raw/main/Data/coin_WrappedBitcoin.csv')\n",
        "xrp = pd.read_csv('https://github.com/NewKanvas/Projeto-5/raw/main/Data/coin_XRP.csv')\n"
      ]
    },
    {
      "cell_type": "markdown",
      "metadata": {},
      "source": [
        "#### ***Unindo todos os datasets em 1 dataframe.***"
      ]
    },
    {
      "cell_type": "code",
      "execution_count": 159,
      "metadata": {
        "id": "jPmHaIG-Lxiq"
      },
      "outputs": [],
      "source": [
        "# Concatenando Datasets\n",
        "cripto = pd.concat([aave, binance_coin, bitcoin, cardano, chainlink, cosmos, crypto_com_coin, dogecoin, eos, ethereum, iota, litecoin, monero, nem, polkadot, solana, stellar, tether, tron, uniswap, usdcoin, wrapped_bitcoin, xrp], ignore_index=True)\n"
      ]
    },
    {
      "cell_type": "markdown",
      "metadata": {},
      "source": [
        "#### ***Limpeza dos Dados***"
      ]
    },
    {
      "cell_type": "code",
      "execution_count": 160,
      "metadata": {},
      "outputs": [],
      "source": [
        "#Convertendo para conter somente a Data\n",
        "cripto['Date'] = pd.to_datetime(cripto['Date']).dt.date "
      ]
    },
    {
      "cell_type": "code",
      "execution_count": 161,
      "metadata": {},
      "outputs": [],
      "source": [
        "# Removendo Colunas que não utilizaremos\n",
        "del cripto['SNo']\n",
        "del cripto['Symbol']"
      ]
    },
    {
      "cell_type": "code",
      "execution_count": 162,
      "metadata": {},
      "outputs": [],
      "source": [
        "## Traduzindo Colunas\n",
        "traducao = {\"Name\": \"Moeda\",\n",
        "            \"Date\": \"Data\",\n",
        "            \"High\": \"Alta\",\n",
        "            \"Low\": \"Baixa\",\n",
        "            \"Open\": \"Abertura\",\n",
        "            \"Close\": \"Fechamento\",\n",
        "            \"Volume\": \"Volume\",\n",
        "            \"Marketcap\": \"Marketcap\",} # Gerando dicionario para tadução\n",
        "cripto.rename(columns=traducao, inplace=True)# Renomeando"
      ]
    },
    {
      "cell_type": "code",
      "execution_count": 163,
      "metadata": {},
      "outputs": [
        {
          "data": {
            "text/html": [
              "<div>\n",
              "<style scoped>\n",
              "    .dataframe tbody tr th:only-of-type {\n",
              "        vertical-align: middle;\n",
              "    }\n",
              "\n",
              "    .dataframe tbody tr th {\n",
              "        vertical-align: top;\n",
              "    }\n",
              "\n",
              "    .dataframe thead th {\n",
              "        text-align: right;\n",
              "    }\n",
              "</style>\n",
              "<table border=\"1\" class=\"dataframe\">\n",
              "  <thead>\n",
              "    <tr style=\"text-align: right;\">\n",
              "      <th></th>\n",
              "      <th>Moeda</th>\n",
              "      <th>Data</th>\n",
              "      <th>Alta</th>\n",
              "      <th>Baixa</th>\n",
              "      <th>Abertura</th>\n",
              "      <th>Fechamento</th>\n",
              "      <th>Volume</th>\n",
              "      <th>Marketcap</th>\n",
              "    </tr>\n",
              "  </thead>\n",
              "  <tbody>\n",
              "    <tr>\n",
              "      <th>0</th>\n",
              "      <td>Aave</td>\n",
              "      <td>2020-10-05</td>\n",
              "      <td>55.112358</td>\n",
              "      <td>49.787900</td>\n",
              "      <td>52.675035</td>\n",
              "      <td>53.219243</td>\n",
              "      <td>0.000000e+00</td>\n",
              "      <td>8.912813e+07</td>\n",
              "    </tr>\n",
              "    <tr>\n",
              "      <th>1</th>\n",
              "      <td>Aave</td>\n",
              "      <td>2020-10-06</td>\n",
              "      <td>53.402270</td>\n",
              "      <td>40.734578</td>\n",
              "      <td>53.291969</td>\n",
              "      <td>42.401599</td>\n",
              "      <td>5.830915e+05</td>\n",
              "      <td>7.101144e+07</td>\n",
              "    </tr>\n",
              "    <tr>\n",
              "      <th>2</th>\n",
              "      <td>Aave</td>\n",
              "      <td>2020-10-07</td>\n",
              "      <td>42.408314</td>\n",
              "      <td>35.970690</td>\n",
              "      <td>42.399947</td>\n",
              "      <td>40.083976</td>\n",
              "      <td>6.828342e+05</td>\n",
              "      <td>6.713004e+07</td>\n",
              "    </tr>\n",
              "    <tr>\n",
              "      <th>3</th>\n",
              "      <td>Aave</td>\n",
              "      <td>2020-10-08</td>\n",
              "      <td>44.902511</td>\n",
              "      <td>36.696057</td>\n",
              "      <td>39.885262</td>\n",
              "      <td>43.764463</td>\n",
              "      <td>1.658817e+06</td>\n",
              "      <td>2.202651e+08</td>\n",
              "    </tr>\n",
              "    <tr>\n",
              "      <th>4</th>\n",
              "      <td>Aave</td>\n",
              "      <td>2020-10-09</td>\n",
              "      <td>47.569533</td>\n",
              "      <td>43.291776</td>\n",
              "      <td>43.764463</td>\n",
              "      <td>46.817744</td>\n",
              "      <td>8.155377e+05</td>\n",
              "      <td>2.356322e+08</td>\n",
              "    </tr>\n",
              "    <tr>\n",
              "      <th>...</th>\n",
              "      <td>...</td>\n",
              "      <td>...</td>\n",
              "      <td>...</td>\n",
              "      <td>...</td>\n",
              "      <td>...</td>\n",
              "      <td>...</td>\n",
              "      <td>...</td>\n",
              "      <td>...</td>\n",
              "    </tr>\n",
              "    <tr>\n",
              "      <th>37077</th>\n",
              "      <td>XRP</td>\n",
              "      <td>2021-07-02</td>\n",
              "      <td>0.667287</td>\n",
              "      <td>0.634726</td>\n",
              "      <td>0.659890</td>\n",
              "      <td>0.656763</td>\n",
              "      <td>2.061607e+09</td>\n",
              "      <td>3.030759e+10</td>\n",
              "    </tr>\n",
              "    <tr>\n",
              "      <th>37078</th>\n",
              "      <td>XRP</td>\n",
              "      <td>2021-07-03</td>\n",
              "      <td>0.683677</td>\n",
              "      <td>0.644653</td>\n",
              "      <td>0.655639</td>\n",
              "      <td>0.672888</td>\n",
              "      <td>1.872820e+09</td>\n",
              "      <td>3.105172e+10</td>\n",
              "    </tr>\n",
              "    <tr>\n",
              "      <th>37079</th>\n",
              "      <td>XRP</td>\n",
              "      <td>2021-07-04</td>\n",
              "      <td>0.707783</td>\n",
              "      <td>0.665802</td>\n",
              "      <td>0.673218</td>\n",
              "      <td>0.694945</td>\n",
              "      <td>1.885242e+09</td>\n",
              "      <td>3.206960e+10</td>\n",
              "    </tr>\n",
              "    <tr>\n",
              "      <th>37080</th>\n",
              "      <td>XRP</td>\n",
              "      <td>2021-07-05</td>\n",
              "      <td>0.695653</td>\n",
              "      <td>0.648492</td>\n",
              "      <td>0.695653</td>\n",
              "      <td>0.654300</td>\n",
              "      <td>2.076373e+09</td>\n",
              "      <td>3.019395e+10</td>\n",
              "    </tr>\n",
              "    <tr>\n",
              "      <th>37081</th>\n",
              "      <td>XRP</td>\n",
              "      <td>2021-07-06</td>\n",
              "      <td>0.679923</td>\n",
              "      <td>0.652676</td>\n",
              "      <td>0.653055</td>\n",
              "      <td>0.665402</td>\n",
              "      <td>1.938959e+09</td>\n",
              "      <td>3.072284e+10</td>\n",
              "    </tr>\n",
              "  </tbody>\n",
              "</table>\n",
              "<p>37082 rows × 8 columns</p>\n",
              "</div>"
            ],
            "text/plain": [
              "      Moeda        Data       Alta      Baixa   Abertura  Fechamento  \\\n",
              "0      Aave  2020-10-05  55.112358  49.787900  52.675035   53.219243   \n",
              "1      Aave  2020-10-06  53.402270  40.734578  53.291969   42.401599   \n",
              "2      Aave  2020-10-07  42.408314  35.970690  42.399947   40.083976   \n",
              "3      Aave  2020-10-08  44.902511  36.696057  39.885262   43.764463   \n",
              "4      Aave  2020-10-09  47.569533  43.291776  43.764463   46.817744   \n",
              "...     ...         ...        ...        ...        ...         ...   \n",
              "37077   XRP  2021-07-02   0.667287   0.634726   0.659890    0.656763   \n",
              "37078   XRP  2021-07-03   0.683677   0.644653   0.655639    0.672888   \n",
              "37079   XRP  2021-07-04   0.707783   0.665802   0.673218    0.694945   \n",
              "37080   XRP  2021-07-05   0.695653   0.648492   0.695653    0.654300   \n",
              "37081   XRP  2021-07-06   0.679923   0.652676   0.653055    0.665402   \n",
              "\n",
              "             Volume     Marketcap  \n",
              "0      0.000000e+00  8.912813e+07  \n",
              "1      5.830915e+05  7.101144e+07  \n",
              "2      6.828342e+05  6.713004e+07  \n",
              "3      1.658817e+06  2.202651e+08  \n",
              "4      8.155377e+05  2.356322e+08  \n",
              "...             ...           ...  \n",
              "37077  2.061607e+09  3.030759e+10  \n",
              "37078  1.872820e+09  3.105172e+10  \n",
              "37079  1.885242e+09  3.206960e+10  \n",
              "37080  2.076373e+09  3.019395e+10  \n",
              "37081  1.938959e+09  3.072284e+10  \n",
              "\n",
              "[37082 rows x 8 columns]"
            ]
          },
          "execution_count": 163,
          "metadata": {},
          "output_type": "execute_result"
        }
      ],
      "source": [
        "cripto"
      ]
    },
    {
      "cell_type": "markdown",
      "metadata": {},
      "source": [
        "#### **Agrupando 10 criptomoedas:**"
      ]
    },
    {
      "cell_type": "code",
      "execution_count": 164,
      "metadata": {},
      "outputs": [],
      "source": [
        "criptoTest = cripto.groupby(['Moeda','Data'])[['Fechamento']].first()\n",
        "criptoTest.reset_index(inplace=True)\n",
        "criptoTest = criptoTest.set_index(['Moeda', 'Data']).unstack(level=0)\n",
        "criptoTest = criptoTest['Fechamento']\n",
        "criptomedia = criptoTest.mean().sort_values(ascending=False) # Verificando as maiores medias de fechamento."
      ]
    },
    {
      "cell_type": "code",
      "execution_count": 165,
      "metadata": {},
      "outputs": [],
      "source": [
        "criptomedia = criptomedia.drop('Wrapped Bitcoin')\n",
        "criptomedia = criptomedia.head(10)\n"
      ]
    },
    {
      "cell_type": "code",
      "execution_count": 166,
      "metadata": {},
      "outputs": [
        {
          "data": {
            "text/plain": [
              "Moeda\n",
              "Bitcoin         6711.290443\n",
              "Ethereum         383.910691\n",
              "Aave             255.525845\n",
              "Monero            74.134773\n",
              "Binance Coin      52.250308\n",
              "Litecoin          49.279008\n",
              "Polkadot          18.143080\n",
              "Uniswap           17.077256\n",
              "Solana            10.471388\n",
              "Cosmos             6.768099\n",
              "dtype: float64"
            ]
          },
          "execution_count": 166,
          "metadata": {},
          "output_type": "execute_result"
        }
      ],
      "source": [
        "criptomedia"
      ]
    },
    {
      "cell_type": "code",
      "execution_count": 167,
      "metadata": {},
      "outputs": [],
      "source": [
        "cripto_top10 = criptomedia.index.tolist()"
      ]
    },
    {
      "cell_type": "code",
      "execution_count": 169,
      "metadata": {},
      "outputs": [
        {
          "data": {
            "text/plain": [
              "['Bitcoin',\n",
              " 'Ethereum',\n",
              " 'Aave',\n",
              " 'Monero',\n",
              " 'Binance Coin',\n",
              " 'Litecoin',\n",
              " 'Polkadot',\n",
              " 'Uniswap',\n",
              " 'Solana',\n",
              " 'Cosmos']"
            ]
          },
          "execution_count": 169,
          "metadata": {},
          "output_type": "execute_result"
        }
      ],
      "source": [
        "cripto_top10"
      ]
    },
    {
      "cell_type": "code",
      "execution_count": 168,
      "metadata": {},
      "outputs": [
        {
          "data": {
            "text/html": [
              "<div>\n",
              "<style scoped>\n",
              "    .dataframe tbody tr th:only-of-type {\n",
              "        vertical-align: middle;\n",
              "    }\n",
              "\n",
              "    .dataframe tbody tr th {\n",
              "        vertical-align: top;\n",
              "    }\n",
              "\n",
              "    .dataframe thead th {\n",
              "        text-align: right;\n",
              "    }\n",
              "</style>\n",
              "<table border=\"1\" class=\"dataframe\">\n",
              "  <thead>\n",
              "    <tr style=\"text-align: right;\">\n",
              "      <th></th>\n",
              "      <th>Moeda</th>\n",
              "      <th>Data</th>\n",
              "      <th>Alta</th>\n",
              "      <th>Baixa</th>\n",
              "      <th>Abertura</th>\n",
              "      <th>Fechamento</th>\n",
              "      <th>Volume</th>\n",
              "      <th>Marketcap</th>\n",
              "    </tr>\n",
              "  </thead>\n",
              "  <tbody>\n",
              "    <tr>\n",
              "      <th>0</th>\n",
              "      <td>Aave</td>\n",
              "      <td>2020-10-05</td>\n",
              "      <td>55.112358</td>\n",
              "      <td>49.787900</td>\n",
              "      <td>52.675035</td>\n",
              "      <td>53.219243</td>\n",
              "      <td>0.000000e+00</td>\n",
              "      <td>8.912813e+07</td>\n",
              "    </tr>\n",
              "    <tr>\n",
              "      <th>1</th>\n",
              "      <td>Aave</td>\n",
              "      <td>2020-10-06</td>\n",
              "      <td>53.402270</td>\n",
              "      <td>40.734578</td>\n",
              "      <td>53.291969</td>\n",
              "      <td>42.401599</td>\n",
              "      <td>5.830915e+05</td>\n",
              "      <td>7.101144e+07</td>\n",
              "    </tr>\n",
              "    <tr>\n",
              "      <th>2</th>\n",
              "      <td>Aave</td>\n",
              "      <td>2020-10-07</td>\n",
              "      <td>42.408314</td>\n",
              "      <td>35.970690</td>\n",
              "      <td>42.399947</td>\n",
              "      <td>40.083976</td>\n",
              "      <td>6.828342e+05</td>\n",
              "      <td>6.713004e+07</td>\n",
              "    </tr>\n",
              "    <tr>\n",
              "      <th>3</th>\n",
              "      <td>Aave</td>\n",
              "      <td>2020-10-08</td>\n",
              "      <td>44.902511</td>\n",
              "      <td>36.696057</td>\n",
              "      <td>39.885262</td>\n",
              "      <td>43.764463</td>\n",
              "      <td>1.658817e+06</td>\n",
              "      <td>2.202651e+08</td>\n",
              "    </tr>\n",
              "    <tr>\n",
              "      <th>4</th>\n",
              "      <td>Aave</td>\n",
              "      <td>2020-10-09</td>\n",
              "      <td>47.569533</td>\n",
              "      <td>43.291776</td>\n",
              "      <td>43.764463</td>\n",
              "      <td>46.817744</td>\n",
              "      <td>8.155377e+05</td>\n",
              "      <td>2.356322e+08</td>\n",
              "    </tr>\n",
              "    <tr>\n",
              "      <th>...</th>\n",
              "      <td>...</td>\n",
              "      <td>...</td>\n",
              "      <td>...</td>\n",
              "      <td>...</td>\n",
              "      <td>...</td>\n",
              "      <td>...</td>\n",
              "      <td>...</td>\n",
              "      <td>...</td>\n",
              "    </tr>\n",
              "    <tr>\n",
              "      <th>14365</th>\n",
              "      <td>Uniswap</td>\n",
              "      <td>2021-07-02</td>\n",
              "      <td>18.243571</td>\n",
              "      <td>16.983818</td>\n",
              "      <td>17.833072</td>\n",
              "      <td>18.241726</td>\n",
              "      <td>3.070457e+08</td>\n",
              "      <td>1.049364e+10</td>\n",
              "    </tr>\n",
              "    <tr>\n",
              "      <th>14366</th>\n",
              "      <td>Uniswap</td>\n",
              "      <td>2021-07-03</td>\n",
              "      <td>19.524757</td>\n",
              "      <td>17.849987</td>\n",
              "      <td>18.227339</td>\n",
              "      <td>19.524757</td>\n",
              "      <td>3.448554e+08</td>\n",
              "      <td>1.146609e+10</td>\n",
              "    </tr>\n",
              "    <tr>\n",
              "      <th>14367</th>\n",
              "      <td>Uniswap</td>\n",
              "      <td>2021-07-04</td>\n",
              "      <td>21.481411</td>\n",
              "      <td>18.947371</td>\n",
              "      <td>19.479936</td>\n",
              "      <td>20.771874</td>\n",
              "      <td>5.404909e+08</td>\n",
              "      <td>1.219861e+10</td>\n",
              "    </tr>\n",
              "    <tr>\n",
              "      <th>14368</th>\n",
              "      <td>Uniswap</td>\n",
              "      <td>2021-07-05</td>\n",
              "      <td>20.867785</td>\n",
              "      <td>19.180908</td>\n",
              "      <td>20.767419</td>\n",
              "      <td>20.095181</td>\n",
              "      <td>5.452744e+08</td>\n",
              "      <td>1.180130e+10</td>\n",
              "    </tr>\n",
              "    <tr>\n",
              "      <th>14369</th>\n",
              "      <td>Uniswap</td>\n",
              "      <td>2021-07-06</td>\n",
              "      <td>23.188558</td>\n",
              "      <td>20.075544</td>\n",
              "      <td>20.088390</td>\n",
              "      <td>22.400186</td>\n",
              "      <td>8.151239e+08</td>\n",
              "      <td>1.315501e+10</td>\n",
              "    </tr>\n",
              "  </tbody>\n",
              "</table>\n",
              "<p>14370 rows × 8 columns</p>\n",
              "</div>"
            ],
            "text/plain": [
              "         Moeda        Data       Alta      Baixa   Abertura  Fechamento  \\\n",
              "0         Aave  2020-10-05  55.112358  49.787900  52.675035   53.219243   \n",
              "1         Aave  2020-10-06  53.402270  40.734578  53.291969   42.401599   \n",
              "2         Aave  2020-10-07  42.408314  35.970690  42.399947   40.083976   \n",
              "3         Aave  2020-10-08  44.902511  36.696057  39.885262   43.764463   \n",
              "4         Aave  2020-10-09  47.569533  43.291776  43.764463   46.817744   \n",
              "...        ...         ...        ...        ...        ...         ...   \n",
              "14365  Uniswap  2021-07-02  18.243571  16.983818  17.833072   18.241726   \n",
              "14366  Uniswap  2021-07-03  19.524757  17.849987  18.227339   19.524757   \n",
              "14367  Uniswap  2021-07-04  21.481411  18.947371  19.479936   20.771874   \n",
              "14368  Uniswap  2021-07-05  20.867785  19.180908  20.767419   20.095181   \n",
              "14369  Uniswap  2021-07-06  23.188558  20.075544  20.088390   22.400186   \n",
              "\n",
              "             Volume     Marketcap  \n",
              "0      0.000000e+00  8.912813e+07  \n",
              "1      5.830915e+05  7.101144e+07  \n",
              "2      6.828342e+05  6.713004e+07  \n",
              "3      1.658817e+06  2.202651e+08  \n",
              "4      8.155377e+05  2.356322e+08  \n",
              "...             ...           ...  \n",
              "14365  3.070457e+08  1.049364e+10  \n",
              "14366  3.448554e+08  1.146609e+10  \n",
              "14367  5.404909e+08  1.219861e+10  \n",
              "14368  5.452744e+08  1.180130e+10  \n",
              "14369  8.151239e+08  1.315501e+10  \n",
              "\n",
              "[14370 rows x 8 columns]"
            ]
          },
          "execution_count": 168,
          "metadata": {},
          "output_type": "execute_result"
        }
      ],
      "source": [
        "criptocopy = cripto[cripto['Moeda'].isin(cripto_top10)].reset_index(drop=True)\n",
        "criptocopy"
      ]
    },
    {
      "cell_type": "code",
      "execution_count": 170,
      "metadata": {},
      "outputs": [],
      "source": [
        "criptocopy.to_csv('criptocopy.csv', index=False)"
      ]
    }
  ],
  "metadata": {
    "colab": {
      "include_colab_link": true,
      "provenance": []
    },
    "kernelspec": {
      "display_name": "Python 3.10.5 64-bit",
      "language": "python",
      "name": "python3"
    },
    "language_info": {
      "codemirror_mode": {
        "name": "ipython",
        "version": 3
      },
      "file_extension": ".py",
      "mimetype": "text/x-python",
      "name": "python",
      "nbconvert_exporter": "python",
      "pygments_lexer": "ipython3",
      "version": "3.10.5"
    },
    "vscode": {
      "interpreter": {
        "hash": "369f2c481f4da34e4445cda3fffd2e751bd1c4d706f27375911949ba6bb62e1c"
      }
    }
  },
  "nbformat": 4,
  "nbformat_minor": 0
}
