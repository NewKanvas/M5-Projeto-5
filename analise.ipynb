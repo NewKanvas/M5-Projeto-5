{
  "cells": [
    {
      "cell_type": "markdown",
      "metadata": {
        "colab_type": "text",
        "id": "view-in-github"
      },
      "source": [
        "<a href=\"https://colab.research.google.com/github/NewKanvas/Projeto-5/blob/main/analise.ipynb\" target=\"_parent\"><img src=\"https://colab.research.google.com/assets/colab-badge.svg\" alt=\"Open In Colab\"/></a>"
      ]
    },
    {
      "cell_type": "markdown",
      "metadata": {},
      "source": [
        "# ***Módulo 5 – Criptomoedas***"
      ]
    },
    {
      "cell_type": "markdown",
      "metadata": {},
      "source": [
        "#### ***SOBRE O PROJETO***"
      ]
    },
    {
      "cell_type": "markdown",
      "metadata": {},
      "source": [
        "`Esse é um projeto integrador, nós vamos utilizar\n",
        "todas as ferramentas e conhecimentos trabalhados ao\n",
        "longo do curso. `\n",
        "\n",
        "**CONTEXTO**\n",
        "\n",
        "Criptomoedas são moedas digitais descentralizadas baseadas em criptografia, que\n",
        "operam em uma rede blockchain que permite transações seguras e transparentes\n",
        "sem a necessidade de intermediários, como bancos. Elas fazem parte do mundo\n",
        "digital, afetam a economia atual e são consideradas altamente voláteis.\n",
        "Por isso, você e seu squad foram escalados por uma corretora financeira para\n",
        "realizar uma análise exploratória relacionada à série histórica dos valores de\n",
        "criptomoedas."
      ]
    },
    {
      "cell_type": "markdown",
      "metadata": {},
      "source": [
        "##### ***O QUE É PARA FAZER?***"
      ]
    },
    {
      "cell_type": "markdown",
      "metadata": {},
      "source": [
        "Realizar uma análise exploratória histórica dos valores de\n",
        "criptomoedas.\n",
        "As fontes de dados que serão utilizadas no projeto estão\n",
        "disponíveis no [Kaggle](https://www.kaggle.com/datasets/sudalairajkumar/cryptocurrencypricehistory).\n",
        "\n"
      ]
    },
    {
      "cell_type": "markdown",
      "metadata": {},
      "source": [
        "##### ***COMO FAZER?***"
      ]
    },
    {
      "cell_type": "markdown",
      "metadata": {},
      "source": [
        "**DETALHES DO PROJETO**\n",
        "\n",
        "A análise deverá responder às seguintes perguntas:\n",
        "1. Como se comportaram os valores para todas as criptomoedas? Os valores tiveram uma\n",
        "tendência de queda ou de aumento?\n",
        "2. Quais os valores médios para todas as criptomoedas?\n",
        "3. Em quais anos houve maiores quedas e valorizações?\n",
        "4. Existe alguma tendência de aumento ou queda dos valores pelo dia da semana?\n",
        "5. Qual moeda se mostra mais interessante em relação à valorização pela análise da série\n",
        "histórica?\n",
        "6. Qual moeda se mostra menos interessante em relação à valorização pela análise da série\n",
        "histórica?\n",
        "7. Existe correlação entre os valores para todas as criptomoedas?"
      ]
    },
    {
      "cell_type": "markdown",
      "metadata": {
        "id": "_i9vT0Z-Lxie"
      },
      "source": [
        "### ***Importando as bibliotecas***"
      ]
    },
    {
      "cell_type": "code",
      "execution_count": 21,
      "metadata": {
        "id": "inHEObsDLxil"
      },
      "outputs": [],
      "source": [
        "import pandas as pd\n",
        "import numpy as np\n",
        "import seaborn as sns # pip install seaborn\n",
        "import matplotlib.pyplot as plt # pip install matplotlib\n",
        "# import plotly.express as px #  pip install --upgrade plotly"
      ]
    },
    {
      "cell_type": "markdown",
      "metadata": {},
      "source": [
        "#### **Carregando Datasets**\n",
        "> 23 Datasets disponibilizados pelo link do Kaggle"
      ]
    },
    {
      "cell_type": "code",
      "execution_count": 22,
      "metadata": {
        "id": "nIAJ79pPLxiq"
      },
      "outputs": [],
      "source": [
        "# Lendo os datasets\n",
        "aave = pd.read_csv('https://raw.githubusercontent.com/NewKanvas/Projeto-5/main/Data/coin_Aave.csv')\n",
        "binance_coin = pd.read_csv('https://github.com/NewKanvas/Projeto-5/raw/main/Data/coin_BinanceCoin.csv')\n",
        "bitcoin = pd.read_csv('https://github.com/NewKanvas/Projeto-5/raw/main/Data/coin_Bitcoin.csv')\n",
        "cardano = pd.read_csv('https://github.com/NewKanvas/Projeto-5/raw/main/Data/coin_Cardano.csv')\n",
        "chainlink = pd.read_csv('https://github.com/NewKanvas/Projeto-5/raw/main/Data/coin_ChainLink.csv')\n",
        "cosmos = pd.read_csv('https://github.com/NewKanvas/Projeto-5/raw/main/Data/coin_Cosmos.csv')\n",
        "crypto_com_coin = pd.read_csv('https://github.com/NewKanvas/Projeto-5/raw/main/Data/coin_CryptocomCoin.csv')\n",
        "dogecoin = pd.read_csv('https://github.com/NewKanvas/Projeto-5/raw/main/Data/coin_Dogecoin.csv')\n",
        "eos = pd.read_csv('https://github.com/NewKanvas/Projeto-5/raw/main/Data/coin_EOS.csv')\n",
        "ethereum = pd.read_csv('https://github.com/NewKanvas/Projeto-5/raw/main/Data/coin_Ethereum.csv')\n",
        "iota = pd.read_csv('https://github.com/NewKanvas/Projeto-5/raw/main/Data/coin_Iota.csv')\n",
        "litecoin = pd.read_csv('https://github.com/NewKanvas/Projeto-5/raw/main/Data/coin_Litecoin.csv')\n",
        "monero = pd.read_csv('https://github.com/NewKanvas/Projeto-5/raw/main/Data/coin_Monero.csv')\n",
        "nem = pd.read_csv('https://github.com/NewKanvas/Projeto-5/raw/main/Data/coin_NEM.csv')\n",
        "polkadot = pd.read_csv('https://github.com/NewKanvas/Projeto-5/raw/main/Data/coin_Polkadot.csv')\n",
        "solana = pd.read_csv('https://github.com/NewKanvas/Projeto-5/raw/main/Data/coin_Solana.csv')\n",
        "stellar = pd.read_csv('https://github.com/NewKanvas/Projeto-5/raw/main/Data/coin_Stellar.csv')\n",
        "tether = pd.read_csv('https://github.com/NewKanvas/Projeto-5/raw/main/Data/coin_Tether.csv')\n",
        "tron = pd.read_csv('https://github.com/NewKanvas/Projeto-5/raw/main/Data/coin_Tron.csv')\n",
        "uniswap = pd.read_csv('https://github.com/NewKanvas/Projeto-5/raw/main/Data/coin_Uniswap.csv')\n",
        "usdcoin = pd.read_csv('https://github.com/NewKanvas/Projeto-5/raw/main/Data/coin_USDCoin.csv')\n",
        "wrapped_bitcoin = pd.read_csv('https://github.com/NewKanvas/Projeto-5/raw/main/Data/coin_WrappedBitcoin.csv')\n",
        "xrp = pd.read_csv('https://github.com/NewKanvas/Projeto-5/raw/main/Data/coin_XRP.csv')\n"
      ]
    },
    {
      "cell_type": "markdown",
      "metadata": {},
      "source": [
        "#### ***Unindo todos os datasets em 1 dataframe.***"
      ]
    },
    {
      "cell_type": "code",
      "execution_count": 23,
      "metadata": {
        "id": "jPmHaIG-Lxiq"
      },
      "outputs": [],
      "source": [
        "# Concatenando Datasets\n",
        "cripto = pd.concat([aave, binance_coin, bitcoin, cardano, chainlink, cosmos, crypto_com_coin, dogecoin, eos, ethereum, iota, litecoin, monero, nem, polkadot, solana, stellar, tether, tron, uniswap, usdcoin, wrapped_bitcoin, xrp], ignore_index=True)\n"
      ]
    },
    {
      "cell_type": "markdown",
      "metadata": {},
      "source": [
        "#### ***Limpeza dos Dados***"
      ]
    },
    {
      "cell_type": "code",
      "execution_count": 24,
      "metadata": {},
      "outputs": [],
      "source": [
        "#Convertendo para conter somente a Data\n",
        "cripto['Date'] = pd.to_datetime(cripto['Date']).dt.date "
      ]
    },
    {
      "cell_type": "code",
      "execution_count": 25,
      "metadata": {},
      "outputs": [],
      "source": [
        "# Removendo Colunas que não utilizaremos\n",
        "del cripto['SNo']\n",
        "del cripto['Symbol']"
      ]
    },
    {
      "cell_type": "code",
      "execution_count": 26,
      "metadata": {},
      "outputs": [],
      "source": [
        "## Traduzindo Colunas\n",
        "traducao = {\"Name\": \"Moeda\",\n",
        "            \"Date\": \"Data\",\n",
        "            \"High\": \"Alta\",\n",
        "            \"Low\": \"Baixa\",\n",
        "            \"Open\": \"Abertura\",\n",
        "            \"Close\": \"Fechamento\",\n",
        "            \"Volume\": \"Volume\",\n",
        "            \"Marketcap\": \"Marketcap\",} # Gerando dicionario para tadução\n",
        "cripto.rename(columns=traducao, inplace=True)# Renomeando"
      ]
    },
    {
      "cell_type": "markdown",
      "metadata": {},
      "source": [
        "#### **Agrupando 10 criptomoedas:**"
      ]
    },
    {
      "cell_type": "code",
      "execution_count": 51,
      "metadata": {},
      "outputs": [],
      "source": [
        "criptoTest = cripto.groupby(['Moeda','Data'])[['Fechamento']].first()\n",
        "criptoTest.reset_index(inplace=True)\n",
        "criptoTest = criptoTest.set_index(['Moeda', 'Data']).unstack(level=0)\n",
        "criptoTest = criptoTest['Fechamento']\n",
        "criptomedia = criptoTest.mean().sort_values(ascending=False) # Verificando as maiores medias de fechamento."
      ]
    },
    {
      "cell_type": "code",
      "execution_count": 60,
      "metadata": {},
      "outputs": [],
      "source": [
        "criptomedia = criptomedia.drop('Wrapped Bitcoin')"
      ]
    },
    {
      "cell_type": "code",
      "execution_count": 28,
      "metadata": {},
      "outputs": [
        {
          "data": {
            "text/plain": [
              "'\\nBitcoin             6711.290443\\nEthereum             383.910691\\nAave                 255.525845\\nMonero                74.134773\\nBinance Coin          52.250308\\nLitecoin              49.279008\\nPolkadot              18.143080\\nUniswap               17.077256\\nSolana                10.471388\\nCosmos                 6.768099\\n'"
            ]
          },
          "execution_count": 28,
          "metadata": {},
          "output_type": "execute_result"
        }
      ],
      "source": [
        "'''\n",
        "Bitcoin             6711.290443\n",
        "Ethereum             383.910691\n",
        "Aave                 255.525845\n",
        "Monero                74.134773\n",
        "Binance Coin          52.250308\n",
        "Litecoin              49.279008\n",
        "Polkadot              18.143080\n",
        "Uniswap               17.077256\n",
        "Solana                10.471388\n",
        "Cosmos                 6.768099\n",
        "'''"
      ]
    },
    {
      "cell_type": "code",
      "execution_count": 29,
      "metadata": {},
      "outputs": [],
      "source": [
        "criptocopy = cripto"
      ]
    }
  ],
  "metadata": {
    "colab": {
      "include_colab_link": true,
      "provenance": []
    },
    "kernelspec": {
      "display_name": "Python 3.10.5 64-bit",
      "language": "python",
      "name": "python3"
    },
    "language_info": {
      "codemirror_mode": {
        "name": "ipython",
        "version": 3
      },
      "file_extension": ".py",
      "mimetype": "text/x-python",
      "name": "python",
      "nbconvert_exporter": "python",
      "pygments_lexer": "ipython3",
      "version": "3.10.5"
    },
    "vscode": {
      "interpreter": {
        "hash": "369f2c481f4da34e4445cda3fffd2e751bd1c4d706f27375911949ba6bb62e1c"
      }
    }
  },
  "nbformat": 4,
  "nbformat_minor": 0
}
